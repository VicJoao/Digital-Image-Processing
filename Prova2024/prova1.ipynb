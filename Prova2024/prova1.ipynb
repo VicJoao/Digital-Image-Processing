{
 "cells": [
  {
   "cell_type": "code",
   "execution_count": 1,
   "id": "initial_id",
   "metadata": {
    "collapsed": true,
    "ExecuteTime": {
     "end_time": "2024-04-08T12:59:57.070923643Z",
     "start_time": "2024-04-08T12:59:56.444450215Z"
    }
   },
   "outputs": [],
   "source": [
    "import cv2 as cv\n",
    "import numpy as np\n",
    "from matplotlib import pyplot as plt"
   ]
  },
  {
   "cell_type": "code",
   "outputs": [
    {
     "name": "stderr",
     "output_type": "stream",
     "text": [
      "[ WARN:0@0.877] global loadsave.cpp:248 findDecoder imread_('prova1_2024_.png'): can't open/read file: check file path/integrity\n"
     ]
    },
    {
     "ename": "error",
     "evalue": "OpenCV(4.9.0) /io/opencv/modules/highgui/src/window.cpp:971: error: (-215:Assertion failed) size.width>0 && size.height>0 in function 'imshow'\n",
     "output_type": "error",
     "traceback": [
      "\u001B[0;31m---------------------------------------------------------------------------\u001B[0m",
      "\u001B[0;31merror\u001B[0m                                     Traceback (most recent call last)",
      "Cell \u001B[0;32mIn[2], line 2\u001B[0m\n\u001B[1;32m      1\u001B[0m img \u001B[38;5;241m=\u001B[39m cv\u001B[38;5;241m.\u001B[39mimread(\u001B[38;5;124m'\u001B[39m\u001B[38;5;124mprova1_2024_.png\u001B[39m\u001B[38;5;124m'\u001B[39m)\n\u001B[0;32m----> 2\u001B[0m \u001B[43mcv\u001B[49m\u001B[38;5;241;43m.\u001B[39;49m\u001B[43mimshow\u001B[49m\u001B[43m(\u001B[49m\u001B[38;5;124;43m'\u001B[39;49m\u001B[38;5;124;43mImagem de teste\u001B[39;49m\u001B[38;5;124;43m'\u001B[39;49m\u001B[43m,\u001B[49m\u001B[43m \u001B[49m\u001B[43mimg\u001B[49m\u001B[43m)\u001B[49m\n\u001B[1;32m      3\u001B[0m cv\u001B[38;5;241m.\u001B[39mwaitKey(\u001B[38;5;241m0\u001B[39m)\n",
      "\u001B[0;31merror\u001B[0m: OpenCV(4.9.0) /io/opencv/modules/highgui/src/window.cpp:971: error: (-215:Assertion failed) size.width>0 && size.height>0 in function 'imshow'\n"
     ]
    }
   ],
   "source": [
    "img = cv.imread('prova1_2024_.png')\n",
    "cv.imshow('Imagem de teste', img)\n",
    "cv.waitKey(0)"
   ],
   "metadata": {
    "collapsed": false,
    "ExecuteTime": {
     "end_time": "2024-04-08T12:59:57.868411955Z",
     "start_time": "2024-04-08T12:59:57.487048184Z"
    }
   },
   "id": "8a2e3560bbca291c",
   "execution_count": 2
  },
  {
   "cell_type": "code",
   "outputs": [
    {
     "name": "stdout",
     "output_type": "stream",
     "text": [
      "Quantidade de imagens vermelhas:  119\n"
     ]
    }
   ],
   "source": [
    "img = cv.imread('prova1_2024_treinamento.png')\n",
    "\n",
    "red = np.array([0, 0, 255])\n",
    "\n",
    "mask = cv.inRange(img, red, red)\n",
    "\n",
    "res = cv.bitwise_and(img, img, mask=mask)\n",
    "\n",
    "# Contar quantas imagens vermelhas\n",
    "contours, _ = cv.findContours(mask, cv.RETR_TREE, cv.CHAIN_APPROX_SIMPLE)\n",
    "print(\"Quantidade de imagens vermelhas: \", len(contours))\n",
    "\n",
    "# Máscara binária\n",
    "cv.imshow('Mascara binaria', mask)\n",
    "cv.waitKey(0)\n",
    "\n",
    "# Apenas vermelhas\n",
    "\n",
    "cv.imshow('Apenas imagens vermelhas', res)\n",
    "cv.waitKey(0)\n",
    "\n",
    "cv.destroyAllWindows()"
   ],
   "metadata": {
    "collapsed": false,
    "ExecuteTime": {
     "end_time": "2024-04-08T13:00:01.850529998Z",
     "start_time": "2024-04-08T12:59:59.531001658Z"
    }
   },
   "id": "5a5873238d48678",
   "execution_count": 3
  },
  {
   "cell_type": "code",
   "outputs": [],
   "source": [
    "# SVM para identificação de formas geométricas"
   ],
   "metadata": {
    "collapsed": false,
    "ExecuteTime": {
     "end_time": "2024-04-08T12:00:28.840914398Z",
     "start_time": "2024-04-08T12:00:28.832065574Z"
    }
   },
   "id": "78b7aa20338e7d0",
   "execution_count": 2
  },
  {
   "cell_type": "code",
   "outputs": [],
   "source": [
    "img = cv.imread('prova1_2024_treinamento.png')\n",
    "\n",
    "for i in range(0, img.shape[0]):\n",
    "    for j in range(0, img.shape[1]):\n",
    "        if img[i, j, 0] == 255 and img[i, j, 1] == 255 and img[i, j, 2] == 255:\n",
    "            img[i, j] = [255, 255, 255]\n",
    "        else:\n",
    "            img[i, j] = [0, 0, 0]\n",
    "   "
   ],
   "metadata": {
    "collapsed": false,
    "ExecuteTime": {
     "end_time": "2024-04-08T12:50:51.615020226Z",
     "start_time": "2024-04-08T12:50:44.877690189Z"
    }
   },
   "id": "b263cc27e4069c08",
   "execution_count": 3
  },
  {
   "cell_type": "code",
   "outputs": [
    {
     "name": "stdout",
     "output_type": "stream",
     "text": [
      "Quantidade de contornos:  360\n"
     ]
    }
   ],
   "source": [
    "import cv2 as cv\n",
    "\n",
    "gray = cv.cvtColor(img, cv.COLOR_BGR2GRAY)\n",
    "_, thresh = cv.threshold(gray, 127, 255, 0)\n",
    "contours, _ = cv.findContours(thresh, cv.RETR_TREE, cv.CHAIN_APPROX_SIMPLE)\n",
    "print(\"Quantidade de contornos: \", len(contours)-1)\n",
    "\n",
    "# os primeiros 120 são circulos, os próximos 120 são quadrados e os últimos 120 são triângulos\n",
    "\n",
    "circulos = []\n",
    "quadrados = []\n",
    "triangulos = []\n",
    "\n",
    "for i in range(0, 120):\n",
    "    circulos.append(contours[i])\n",
    "    \n",
    "for i in range(120, 240):\n",
    "    quadrados.append(contours[i])\n",
    "    \n",
    "for i in range(240, 360):\n",
    "    triangulos.append(contours[i])\n",
    "    \n",
    "labels = []\n",
    "\n",
    "for i in range(0, 120):\n",
    "    labels.append('1')\n",
    "for i in range(120, 240):\n",
    "    labels.append('2')\n",
    "for i in range(240, 360):\n",
    "    labels.append('3')\n",
    "        "
   ],
   "metadata": {
    "collapsed": false,
    "ExecuteTime": {
     "start_time": "2024-04-08T12:48:45.051904612Z"
    }
   },
   "id": "c81bbb044d3e27d6",
   "execution_count": null
  },
  {
   "cell_type": "code",
   "outputs": [
    {
     "data": {
      "text/plain": "13"
     },
     "execution_count": 6,
     "metadata": {},
     "output_type": "execute_result"
    }
   ],
   "source": [
    "# A ideia seria salvar esses contornos em um dataset e treinar, por exemplode 0 a 119 são circulos, de 120 a 239 são quadrados e de 240 a 359 são triângulos, porém não consegui rodar o modelo, por erros"
   ],
   "metadata": {
    "collapsed": false,
    "ExecuteTime": {
     "end_time": "2024-04-08T12:51:13.565645744Z",
     "start_time": "2024-04-08T12:51:13.543774510Z"
    }
   },
   "id": "2d66e63b3f7ba5f",
   "execution_count": 6
  }
 ],
 "metadata": {
  "kernelspec": {
   "display_name": "Python 3",
   "language": "python",
   "name": "python3"
  },
  "language_info": {
   "codemirror_mode": {
    "name": "ipython",
    "version": 2
   },
   "file_extension": ".py",
   "mimetype": "text/x-python",
   "name": "python",
   "nbconvert_exporter": "python",
   "pygments_lexer": "ipython2",
   "version": "2.7.6"
  }
 },
 "nbformat": 4,
 "nbformat_minor": 5
}
