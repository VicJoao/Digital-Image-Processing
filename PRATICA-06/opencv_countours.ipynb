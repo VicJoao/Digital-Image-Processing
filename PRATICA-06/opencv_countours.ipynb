{
 "cells": [
  {
   "cell_type": "markdown",
   "source": [
    "### Neste notebook, vamos descrever diversas funções da biblioteca OpenCV, para processamento digital de imagens, focando somente em contornos."
   ],
   "metadata": {
    "collapsed": false
   },
   "id": "3111276304df8c79"
  },
  {
   "cell_type": "markdown",
   "source": [
    "______________________\n",
    "\n",
    "## Função `findContours()`\n",
    "\n",
    "## Parâmetros:\n",
    "\n",
    "#### `image` fonte, uma imagem de canal único em 8 bits. Pixels não nulos são tratados como 1's. Pixels zero permanecem 0's, então a imagem é tratada como binária.\n",
    "\n",
    "#### `contours` contornos detectados. Cada contorno é armazenado como um vetor de pontos.\n",
    "\n",
    "#### `hierarchy` vetor de saída opcional, contendo informações sobre a topologia da imagem. Tem tantos elementos quanto o número de contornos. Para cada i-ésimo contorno contours[i], os elementos hierarchy[i][0], hierarchy[i][1], hierarchy[i][2] e hierarchy[i][3] são definidos como índices baseados em 0 nos contornos do próximo e do contorno anterior no mesmo nível hierárquico, o primeiro contorno filho e o contorno pai, respectivamente. Se para o contorno i não houver próximos, anteriores, pai ou contornos aninhados, os elementos correspondentes de hierarchy[i] serão negativos.\n",
    "\n",
    "#### `mode` modo de recuperação de contornos, veja RetrievalModes.\n",
    "\n",
    "#### `method` método de aproximação de contornos, veja ContourApproximationModes.\n",
    "\n",
    "#### `offset` deslocamento opcional pelo qual cada ponto do contorno é deslocado. Isso é útil se os contornos forem extraídos da região de interesse (ROI) da imagem e, em seguida, analisados no contexto da imagem inteira.\n",
    "\n",
    "______________________\n",
    "\n",
    "## Detecção de contornos:\n",
    "\n",
    "#### `cv.CHAIN_APPROX_NONE` todos os pontos de limite são armazenados.\n",
    "#### `cv.CHAIN_APPROX_SIMPLE` remove todos os pontos redundantes e comprime o contorno, economizando memória.\n",
    "\n",
    "______________________\n",
    "\n",
    "## Recuperação do contorno:\n",
    "\n",
    "#### `cv2.RETR_EXTERNAL` para recuperar apenas os contornos externos,\n",
    "#### `cv2.RETR_LIST` para recuperar todos os contornos sem hierarquia,\n",
    "\n",
    "______________________\n",
    "\n",
    "## Extração de contornos:\n",
    "\n",
    "#### `cv.RETR_EXTERNAL` recupera apenas os contornos externos extremos. Define hierarquia[i][2]=hierarquia[i][3]=-1 para todos os contornos.\n",
    "\n",
    "####  `cv.RETR_LIST` recupera todos os contornos sem estabelecer nenhuma relação hierárquica.\n",
    "\n",
    "####  `cv.RETR_CCOMP` recupera todos os contornos e os organiza em uma hierarquia de dois níveis. No nível superior, estão os contornos externos. No segundo nível, existem contornos dos internos. Se houver outro contorno dentro de um componente conectado, ele ainda será colocado no nível superior.\n",
    "\n",
    "#### `cv.RETR_TREE` recupera todos os contornos e reconstrói uma hierarquia completa de contornos aninhados.\n",
    "\n",
    "______________________"
   ],
   "metadata": {
    "collapsed": false
   },
   "id": "d593c48c790af1bb"
  },
  {
   "cell_type": "markdown",
   "source": [
    "______________________\n",
    "\n",
    "## Função `drawContours()`\n",
    "\n",
    "## Parâmetros:\n",
    "\n",
    "#### `image` imagem RGB de entrada.\n",
    "\n",
    "#### `contours` o vetor de contornos retornados pela função.\n",
    "\n",
    "#### `contourIdx` vetor com as coordenadas de cada contorno. Usando este argumento, você pode especificar a posição do índice desta lista, indicando exatamente qual ponto de contorno você deseja desenhar. Fornecer um valor negativo irá desenhar todos os pontos de contorno.\n",
    "\n",
    "#### `color` a cor desejada para desenhar o contono.\n",
    "\n",
    "#### `thickness` a espessura do contorno. Valores negativos vão resultar em preenchimento da figura.\n",
    "\n",
    "#### `lineType` conectividade da linha.\n",
    "\n",
    "#### `hierarchy` informação opcional sobre a hierarquia. É necessária apenas se você quiser desenhar apenas alguns dos contornos.\n",
    "\n",
    "#### `maxLevel` nível máximo para contornos desenhados. Se for 0, apenas o contorno especificado é desenhado. Se for 1, a função desenha o(s) contorno(s) e todos os contornos aninhados. Se for 2, a função desenha os contornos, todos os contornos aninhados, todos os contornos aninhados aos aninhados, e assim por diante. Este parâmetro só é considerado quando há hierarquia disponível.\n",
    "\n",
    "#### `offset` Parâmetro opcional de deslocamento do contorno. Desloca todos os contornos desenhados pelo deslocamento especificado=(dx,dy).\n",
    "\n",
    "______________________\n"
   ],
   "metadata": {
    "collapsed": false
   },
   "id": "618d4e09d0d5b82f"
  },
  {
   "cell_type": "markdown",
   "source": [
    "______________________\n",
    "\n",
    "## Exemplos:\n",
    "\n",
    "`findContours()` | `cv2.RETR_TREE | cv2.CHAIN_APPROX_NONE`"
   ],
   "metadata": {
    "collapsed": false
   },
   "id": "446d943b37652631"
  },
  {
   "cell_type": "code",
   "outputs": [
    {
     "name": "stdout",
     "output_type": "stream",
     "text": [
      "Quantidade de objetos: 2\n"
     ]
    }
   ],
   "source": [
    "# Utilizando find contours\n",
    "\n",
    "import cv2\n",
    "\n",
    "# Conversão para escala cinza\n",
    "\n",
    "image = cv2.imread('shapes.png')\n",
    "img_gray = cv2.cvtColor(image, cv2.COLOR_BGR2GRAY)\n",
    "cv2.imshow('Imagem Cinza', img_gray)\n",
    "cv2.waitKey(0)\n",
    "cv2.destroyAllWindows()\n",
    "\n",
    "# Threshold da imagem\n",
    "\n",
    "ret, thresh = cv2.threshold(img_gray, 200, 255, cv2.THRESH_BINARY)\n",
    "cv2.imshow('Imagem Binaria', thresh)\n",
    "cv2.waitKey(0)\n",
    "cv2.destroyAllWindows()\n",
    "\n",
    "# Contornos\n",
    "\n",
    "contours, hierarquy = cv2.findContours(image=thresh, mode=cv2.RETR_TREE, method=cv2.CHAIN_APPROX_NONE)\n",
    "\n",
    "image_copy = image.copy()\n",
    "\n",
    "cv2.drawContours(image=image_copy,contours=contours, contourIdx=1, color=(0,255,0), thickness=2, lineType=cv2.LINE_AA)\n",
    "\n",
    "print(\"Quantidade de objetos: \" + str(len(contours)))\n",
    "cv2.imshow('CHAIN_APPROX_NONE', image_copy)\n",
    "cv2.waitKey(0)\n",
    "cv2.destroyAllWindows()"
   ],
   "metadata": {
    "collapsed": false,
    "ExecuteTime": {
     "end_time": "2024-07-19T00:02:17.269292626Z",
     "start_time": "2024-07-19T00:02:12.841720418Z"
    }
   },
   "id": "fb92b3b35b241fd2",
   "execution_count": 9
  },
  {
   "cell_type": "code",
   "outputs": [],
   "source": [],
   "metadata": {
    "collapsed": false
   },
   "id": "860d66100490391c"
  },
  {
   "cell_type": "code",
   "outputs": [],
   "source": [],
   "metadata": {
    "collapsed": false
   },
   "id": "a8b5bcb293d5e4d6"
  }
 ],
 "metadata": {
  "kernelspec": {
   "display_name": "Python 3",
   "language": "python",
   "name": "python3"
  },
  "language_info": {
   "codemirror_mode": {
    "name": "ipython",
    "version": 2
   },
   "file_extension": ".py",
   "mimetype": "text/x-python",
   "name": "python",
   "nbconvert_exporter": "python",
   "pygments_lexer": "ipython2",
   "version": "2.7.6"
  }
 },
 "nbformat": 4,
 "nbformat_minor": 5
}
